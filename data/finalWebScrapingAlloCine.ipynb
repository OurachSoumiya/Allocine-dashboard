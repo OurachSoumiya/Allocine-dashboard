{
 "cells": [
  {
   "cell_type": "markdown",
   "metadata": {},
   "source": [
    "#### Libraries :"
   ]
  },
  {
   "cell_type": "code",
   "execution_count": 7,
   "metadata": {},
   "outputs": [],
   "source": [
    "from bs4 import BeautifulSoup\n",
    "import requests\n",
    "import csv"
   ]
  },
  {
   "cell_type": "markdown",
   "metadata": {},
   "source": [
    "#### path of csv file :"
   ]
  },
  {
   "cell_type": "code",
   "execution_count": 8,
   "metadata": {},
   "outputs": [],
   "source": [
    "##variables :\n",
    "locationOfScrapedData = r'C:\\Users\\user\\Desktop\\mini-projet\\data\\movies.csv'"
   ]
  },
  {
   "cell_type": "markdown",
   "metadata": {},
   "source": [
    "#### web scraping code:"
   ]
  },
  {
   "cell_type": "code",
   "execution_count": 9,
   "metadata": {},
   "outputs": [],
   "source": [
    "def scrape_movies(url):\n",
    "    html_text = requests.get(url).content\n",
    "    soup = BeautifulSoup(html_text.decode('utf-8'), 'html.parser')\n",
    "    movies = soup.find_all('div', class_='card entity-card entity-card-list cf')\n",
    "    \n",
    "    # List to store movie data\n",
    "    movie_data = []\n",
    "\n",
    "    # Extract and append information for each movie\n",
    "    for movie in movies:\n",
    "        movieName = movie.find('a', class_='meta-title-link')\n",
    "        moviedata = movie.find('div', class_='meta-body')\n",
    "        moviedata2 = movie.find('div', class_='meta-body-item meta-body-info')\n",
    "        moviedirector = movie.find('div', class_='meta-body-item meta-body-direction')\n",
    "        movieActors = movie.find('div', class_='meta-body-item meta-body-actor')\n",
    "        movieNote = [note.text.strip() for note in movie.find_all('span', class_='stareval-note')]\n",
    "        movieSynopsis = movie.find('div', class_='synopsis')\n",
    "\n",
    "        # Check if the 'meta-body-info' contains structured information or just a string\n",
    "        if moviedirector == None :\n",
    "            # Append movie data to the list\n",
    "            movie_data.append([movieName.text.strip(),'#',\n",
    "                                moviedata.text.strip(),'#',\n",
    "                                *movieNote,'#', \n",
    "                                movieSynopsis.text.strip(),\"//\"])\n",
    "        else:\n",
    "            # If 'meta-body-info' contains a simple string, append it to the list\n",
    "            movie_data.append([movieName.text.strip(),'#',\n",
    "                               moviedirector.text.strip(),'#',\n",
    "                               moviedata2.text.strip(),'#',\n",
    "                               movieActors.text.strip(),'#', \n",
    "                               *movieNote,'#', \n",
    "                               movieSynopsis.text.strip(),\"//\"])\n",
    "    return movie_data\n",
    "\n"
   ]
  },
  {
   "cell_type": "code",
   "execution_count": 10,
   "metadata": {},
   "outputs": [
    {
     "name": "stdout",
     "output_type": "stream",
     "text": [
      "Scraping movies from page 1...\n",
      "Scraping movies from page 2...\n",
      "Scraping movies from page 3...\n",
      "Scraping movies from page 4...\n",
      "Scraping movies from page 5...\n",
      "Scraping movies from page 6...\n",
      "Scraping movies from page 7...\n",
      "Scraping movies from page 8...\n",
      "Scraping movies from page 9...\n",
      "Scraping movies from page 10...\n",
      "Scraping movies from page 11...\n",
      "Scraping movies from page 12...\n",
      "Scraping movies from page 13...\n",
      "Scraping movies from page 14...\n",
      "Scraping movies from page 15...\n",
      "Scraping movies from page 16...\n",
      "Scraping movies from page 17...\n",
      "Scraping movies from page 18...\n",
      "Scraping movies from page 19...\n",
      "Scraping movies from page 20...\n",
      "Scraping movies from page 21...\n",
      "Scraping movies from page 22...\n",
      "Scraping movies from page 23...\n",
      "Scraping movies from page 24...\n",
      "Scraping movies from page 25...\n",
      "Scraping movies from page 26...\n",
      "Scraping movies from page 27...\n",
      "Scraping movies from page 28...\n",
      "Scraping movies from page 29...\n",
      "Scraping movies from page 30...\n"
     ]
    }
   ],
   "source": [
    "url = 'https://www.allocine.fr/film/meilleurs/'\n",
    "\n",
    "# Number of pages to scrape (adjust as needed)\n",
    "num_pages = 30\n",
    "\n",
    "# Loop through the pages and scrape movie information\n",
    "for page_number in range(1, num_pages + 1):\n",
    "    page_url = f'https://www.allocine.fr/film/meilleurs/?page={page_number}'\n",
    "    print(f\"Scraping movies from page {page_number}...\")\n",
    "    movies_data = scrape_movies(page_url)\n",
    "\n",
    "    # Append data to CSV file\n",
    "    with open(locationOfScrapedData, 'a', newline='', encoding='utf-8') as csvfile:\n",
    "        csv_writer = csv.writer(csvfile)\n",
    "        csv_writer.writerows(movies_data)"
   ]
  }
 ],
 "metadata": {
  "kernelspec": {
   "display_name": "Python 3",
   "language": "python",
   "name": "python3"
  },
  "language_info": {
   "codemirror_mode": {
    "name": "ipython",
    "version": 3
   },
   "file_extension": ".py",
   "mimetype": "text/x-python",
   "name": "python",
   "nbconvert_exporter": "python",
   "pygments_lexer": "ipython3",
   "version": "3.8.10"
  }
 },
 "nbformat": 4,
 "nbformat_minor": 2
}
